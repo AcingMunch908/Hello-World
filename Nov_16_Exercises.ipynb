{
  "nbformat": 4,
  "nbformat_minor": 0,
  "metadata": {
    "colab": {
      "name": "Nov. 16 Exercises.ipynb",
      "provenance": [],
      "authorship_tag": "ABX9TyPL55NhSUatzVmm5eVVZUXs",
      "include_colab_link": true
    },
    "kernelspec": {
      "name": "python3",
      "display_name": "Python 3"
    }
  },
  "cells": [
    {
      "cell_type": "markdown",
      "metadata": {
        "id": "view-in-github",
        "colab_type": "text"
      },
      "source": [
        "<a href=\"https://colab.research.google.com/github/AcingMunch908/Hello-World/blob/master/Nov_16_Exercises.ipynb\" target=\"_parent\"><img src=\"https://colab.research.google.com/assets/colab-badge.svg\" alt=\"Open In Colab\"/></a>"
      ]
    },
    {
      "cell_type": "code",
      "metadata": {
        "id": "4pPQ7rf6z49B"
      },
      "source": [
        "#Exercise 1"
      ],
      "execution_count": 4,
      "outputs": []
    },
    {
      "cell_type": "code",
      "metadata": {
        "colab": {
          "base_uri": "https://localhost:8080/"
        },
        "id": "jDGpcY7PyBgL",
        "outputId": "d80f44ee-8f3a-457d-e64e-58102b696496"
      },
      "source": [
        "print(\"Niraj Koneru\\n8640 Charleston Ridge Dr.\\nMason, OH 45040\")"
      ],
      "execution_count": 25,
      "outputs": [
        {
          "output_type": "stream",
          "text": [
            "Niraj Koneru\n",
            "8640 Charleston Ridge Dr.\n",
            "Mason, OH 45040\n"
          ],
          "name": "stdout"
        }
      ]
    },
    {
      "cell_type": "code",
      "metadata": {
        "id": "qi7J2Ji10Dvm"
      },
      "source": [
        "#Exercise 2"
      ],
      "execution_count": 24,
      "outputs": []
    },
    {
      "cell_type": "code",
      "metadata": {
        "colab": {
          "base_uri": "https://localhost:8080/"
        },
        "id": "BWk9yFiG0J3f",
        "outputId": "243ba1a6-60db-468e-cf9d-8831917265d7"
      },
      "source": [
        "name = input (\"What is your Name? \")\n",
        "print(\"Hello\", name + \"!\")"
      ],
      "execution_count": 17,
      "outputs": [
        {
          "output_type": "stream",
          "text": [
            "What is your Name? Niraj\n",
            "Hello Niraj!\n"
          ],
          "name": "stdout"
        }
      ]
    },
    {
      "cell_type": "code",
      "metadata": {
        "id": "A4NBbHmM2Zy_"
      },
      "source": [
        "#Exercise 3"
      ],
      "execution_count": 18,
      "outputs": []
    },
    {
      "cell_type": "code",
      "metadata": {
        "colab": {
          "base_uri": "https://localhost:8080/"
        },
        "id": "VrtsioRu2_3K",
        "outputId": "aac5e064-7447-4bf2-d24d-dbd136462222"
      },
      "source": [
        "length = float(input(\"Length(ft): \"))\n",
        "width = float(input(\"Width(ft): \"))\n",
        "area = length * width\n",
        "print(\"Area(ft^2):\",area,\"ft^2\")"
      ],
      "execution_count": 28,
      "outputs": [
        {
          "output_type": "stream",
          "text": [
            "Length(ft): 3\n",
            "Width(ft): 4\n",
            "Area(ft^2): 12.0 ft^2\n"
          ],
          "name": "stdout"
        }
      ]
    },
    {
      "cell_type": "code",
      "metadata": {
        "id": "hAbRkyPZ3QHV"
      },
      "source": [
        "#Exercise 4"
      ],
      "execution_count": 29,
      "outputs": []
    },
    {
      "cell_type": "code",
      "metadata": {
        "colab": {
          "base_uri": "https://localhost:8080/"
        },
        "id": "91QYxwPs4MrW",
        "outputId": "c9d2e2d2-7a3e-4356-d86e-4e24a1b5c839"
      },
      "source": [
        "l = float(input(\"Enter the length:\"))\n",
        "w = float(input(\"Enter the width:\"))\n",
        "area = l * w;\n",
        "print(\"Area in acre:\",area/43560)"
      ],
      "execution_count": 32,
      "outputs": [
        {
          "output_type": "stream",
          "text": [
            "Enter the length:59999\n",
            "Enter the width:2\n",
            "Area in acre: 2.7547750229568413\n"
          ],
          "name": "stdout"
        }
      ]
    },
    {
      "cell_type": "code",
      "metadata": {
        "id": "7Iv60kcx5REl"
      },
      "source": [
        "#Exercise 5"
      ],
      "execution_count": 33,
      "outputs": []
    },
    {
      "cell_type": "code",
      "metadata": {
        "colab": {
          "base_uri": "https://localhost:8080/"
        },
        "id": "xV3NLOB47TO4",
        "outputId": "97612a51-e8f6-41a5-ee3c-4767569b1344"
      },
      "source": [
        "small_container = int(input(\"# of small containers recycled: \"))\n",
        "large_container = int(input(\"# of large containers recycled: \"))\n",
        "refund = (small_container * 0.10) + (large_container * 0.25)\n",
        "print(f\"The total refund is ${refund:.2f}\")"
      ],
      "execution_count": 48,
      "outputs": [
        {
          "output_type": "stream",
          "text": [
            "# of small containers recycled: 6\n",
            "# of large containers recycled: 7\n",
            "The total refund is $2.35\n"
          ],
          "name": "stdout"
        }
      ]
    },
    {
      "cell_type": "code",
      "metadata": {
        "id": "aYBjXpXY_dF5"
      },
      "source": [
        "#Exercise 6"
      ],
      "execution_count": 49,
      "outputs": []
    },
    {
      "cell_type": "code",
      "metadata": {
        "colab": {
          "base_uri": "https://localhost:8080/"
        },
        "id": "ukMZpQWv_soj",
        "outputId": "2a12712d-fdfe-46ac-c1df-368ae645a121"
      },
      "source": [
        "meal_price = float(input(\"What is the price of the meal? \"))\n",
        "tip = meal_price * 0.18\n",
        "tax = Meal_Price * 0.06\n",
        "total = meal_price + tip + tax\n",
        "print(f\"Tip Amount: ${tip:.2f}\" )\n",
        "print(f\"Tax Amount: ${tax:.2f}\" )\n",
        "print(f\"Grand Total: ${total:.2f}\" )"
      ],
      "execution_count": 54,
      "outputs": [
        {
          "output_type": "stream",
          "text": [
            "What is the price of the meal? 25\n",
            "Tip Amount: $4.50\n",
            "Tax Amount: $1.20\n",
            "Grand Total: $30.70\n"
          ],
          "name": "stdout"
        }
      ]
    },
    {
      "cell_type": "code",
      "metadata": {
        "id": "qbV1IRKJB_0E"
      },
      "source": [
        ""
      ],
      "execution_count": 53,
      "outputs": []
    }
  ]
}